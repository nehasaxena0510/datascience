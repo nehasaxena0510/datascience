{
 "cells": [
  {
   "cell_type": "code",
   "execution_count": 3,
   "metadata": {},
   "outputs": [],
   "source": [
    "import numpy as np \n",
    "import pandas as pd \n",
    "import glob\n",
    "import matplotlib.pyplot as plt\n",
    "import seaborn as sns\n",
    "from sklearn.preprocessing import OneHotEncoder\n",
    "from sklearn.datasets.samples_generator import make_blobs\n",
    "%matplotlib inline"
   ]
  },
  {
   "cell_type": "markdown",
   "metadata": {},
   "source": [
    "### modules"
   ]
  },
  {
   "cell_type": "code",
   "execution_count": 4,
   "metadata": {},
   "outputs": [],
   "source": [
    "#boxPlot\n",
    "def boxPlot(dim1, dim2, label):\n",
    "    fig_dims = (dim1, dim2)\n",
    "    fig, ax = plt.subplots(figsize=fig_dims)\n",
    "    sns.countplot(x=label,data=glDF)"
   ]
  },
  {
   "cell_type": "code",
   "execution_count": 5,
   "metadata": {},
   "outputs": [],
   "source": [
    "# plotting a pie chart\n",
    "def pieChart(labels, counts):    \n",
    "    sizes = [counts[var_cat] for var_cat in labels]\n",
    "    fig1, ax1 = plt.subplots()\n",
    "    ax1.pie(sizes, labels=labels, autopct='%1.1f%%', shadow=True) #autopct is show the % on plot\n",
    "    ax1.axis('equal')\n",
    "    plt.show()"
   ]
  },
  {
   "cell_type": "markdown",
   "metadata": {},
   "source": [
    "### loading data from csv"
   ]
  },
  {
   "cell_type": "code",
   "execution_count": 6,
   "metadata": {},
   "outputs": [
    {
     "name": "stderr",
     "output_type": "stream",
     "text": [
      "C:\\ProgramData\\Anaconda3\\lib\\site-packages\\IPython\\core\\interactiveshell.py:3058: DtypeWarning: Columns (0) have mixed types. Specify dtype option on import or set low_memory=False.\n",
      "  interactivity=interactivity, compiler=compiler, result=result)\n"
     ]
    },
    {
     "data": {
      "text/html": [
       "<div>\n",
       "<style scoped>\n",
       "    .dataframe tbody tr th:only-of-type {\n",
       "        vertical-align: middle;\n",
       "    }\n",
       "\n",
       "    .dataframe tbody tr th {\n",
       "        vertical-align: top;\n",
       "    }\n",
       "\n",
       "    .dataframe thead th {\n",
       "        text-align: right;\n",
       "    }\n",
       "</style>\n",
       "<table border=\"1\" class=\"dataframe\">\n",
       "  <thead>\n",
       "    <tr style=\"text-align: right;\">\n",
       "      <th></th>\n",
       "      <th>DTT_ID</th>\n",
       "      <th>GL account</th>\n",
       "      <th>Business Unit</th>\n",
       "      <th>Journal</th>\n",
       "      <th>VERS</th>\n",
       "      <th>LDG_NAME</th>\n",
       "      <th>Account No</th>\n",
       "      <th>Period</th>\n",
       "      <th>Sequence No</th>\n",
       "      <th>Post Date</th>\n",
       "      <th>...</th>\n",
       "      <th>DOC_XREF</th>\n",
       "      <th>USER_FLD1</th>\n",
       "      <th>BAT_CRUSER</th>\n",
       "      <th>BAT_CRTERM</th>\n",
       "      <th>SOURCE_ID</th>\n",
       "      <th>Source_Date</th>\n",
       "      <th>SOURCE_TIMEI</th>\n",
       "      <th>SOURCE_USER</th>\n",
       "      <th>POST_USER</th>\n",
       "      <th>DOC_UNIQUE_ID</th>\n",
       "    </tr>\n",
       "  </thead>\n",
       "  <tbody>\n",
       "    <tr>\n",
       "      <td>0</td>\n",
       "      <td>611102</td>\n",
       "      <td>GL account 197</td>\n",
       "      <td>Business Unit 51</td>\n",
       "      <td>Journal 1</td>\n",
       "      <td>VERS 2</td>\n",
       "      <td>LDG_NAME 1</td>\n",
       "      <td>Account No 28386</td>\n",
       "      <td>Period 12</td>\n",
       "      <td>1044.0</td>\n",
       "      <td>3/07/2015</td>\n",
       "      <td>...</td>\n",
       "      <td>DOC_XREF 2312918</td>\n",
       "      <td>NaN</td>\n",
       "      <td>BAT_CRUSER 60</td>\n",
       "      <td>BAT_CRTERM 5</td>\n",
       "      <td>SOURCE_ID 4</td>\n",
       "      <td>2/07/2015</td>\n",
       "      <td>232352.0</td>\n",
       "      <td>SOURCE_USER 61</td>\n",
       "      <td>POST_USER 60</td>\n",
       "      <td>6a39f98d98784be3a6de803b02708e5e</td>\n",
       "    </tr>\n",
       "    <tr>\n",
       "      <td>1</td>\n",
       "      <td>611162</td>\n",
       "      <td>GL account 197</td>\n",
       "      <td>Business Unit 51</td>\n",
       "      <td>Journal 1</td>\n",
       "      <td>VERS 2</td>\n",
       "      <td>LDG_NAME 1</td>\n",
       "      <td>Account No 28386</td>\n",
       "      <td>Period 12</td>\n",
       "      <td>1045.0</td>\n",
       "      <td>3/07/2015</td>\n",
       "      <td>...</td>\n",
       "      <td>DOC_XREF 2312919</td>\n",
       "      <td>NaN</td>\n",
       "      <td>BAT_CRUSER 60</td>\n",
       "      <td>BAT_CRTERM 5</td>\n",
       "      <td>SOURCE_ID 7</td>\n",
       "      <td>3/07/2015</td>\n",
       "      <td>21446.0</td>\n",
       "      <td>SOURCE_USER 61</td>\n",
       "      <td>POST_USER 60</td>\n",
       "      <td>NaN</td>\n",
       "    </tr>\n",
       "    <tr>\n",
       "      <td>2</td>\n",
       "      <td>611197</td>\n",
       "      <td>GL account 197</td>\n",
       "      <td>Business Unit 51</td>\n",
       "      <td>Journal 1</td>\n",
       "      <td>VERS 2</td>\n",
       "      <td>LDG_NAME 1</td>\n",
       "      <td>Account No 28386</td>\n",
       "      <td>Period 12</td>\n",
       "      <td>934.0</td>\n",
       "      <td>2/07/2015</td>\n",
       "      <td>...</td>\n",
       "      <td>DOC_XREF 2301257</td>\n",
       "      <td>NaN</td>\n",
       "      <td>BAT_CRUSER 60</td>\n",
       "      <td>BAT_CRTERM 5</td>\n",
       "      <td>SOURCE_ID 4</td>\n",
       "      <td>1/07/2015</td>\n",
       "      <td>231358.0</td>\n",
       "      <td>SOURCE_USER 61</td>\n",
       "      <td>POST_USER 60</td>\n",
       "      <td>1aa32ff8a72c4394b2e50f44fa8b12f1</td>\n",
       "    </tr>\n",
       "    <tr>\n",
       "      <td>3</td>\n",
       "      <td>611198</td>\n",
       "      <td>GL account 197</td>\n",
       "      <td>Business Unit 51</td>\n",
       "      <td>Journal 1</td>\n",
       "      <td>VERS 2</td>\n",
       "      <td>LDG_NAME 1</td>\n",
       "      <td>Account No 28386</td>\n",
       "      <td>Period 12</td>\n",
       "      <td>935.0</td>\n",
       "      <td>2/07/2015</td>\n",
       "      <td>...</td>\n",
       "      <td>DOC_XREF 2301257</td>\n",
       "      <td>NaN</td>\n",
       "      <td>BAT_CRUSER 60</td>\n",
       "      <td>BAT_CRTERM 5</td>\n",
       "      <td>SOURCE_ID 4</td>\n",
       "      <td>1/07/2015</td>\n",
       "      <td>231358.0</td>\n",
       "      <td>SOURCE_USER 61</td>\n",
       "      <td>POST_USER 60</td>\n",
       "      <td>1aa32ff8a72c4394b2e50f44fa8b12f1</td>\n",
       "    </tr>\n",
       "    <tr>\n",
       "      <td>4</td>\n",
       "      <td>611199</td>\n",
       "      <td>GL account 197</td>\n",
       "      <td>Business Unit 51</td>\n",
       "      <td>Journal 1</td>\n",
       "      <td>VERS 2</td>\n",
       "      <td>LDG_NAME 1</td>\n",
       "      <td>Account No 28386</td>\n",
       "      <td>Period 12</td>\n",
       "      <td>936.0</td>\n",
       "      <td>2/07/2015</td>\n",
       "      <td>...</td>\n",
       "      <td>DOC_XREF 2301258</td>\n",
       "      <td>NaN</td>\n",
       "      <td>BAT_CRUSER 60</td>\n",
       "      <td>BAT_CRTERM 5</td>\n",
       "      <td>SOURCE_ID 7</td>\n",
       "      <td>2/07/2015</td>\n",
       "      <td>12710.0</td>\n",
       "      <td>SOURCE_USER 61</td>\n",
       "      <td>POST_USER 60</td>\n",
       "      <td>NaN</td>\n",
       "    </tr>\n",
       "  </tbody>\n",
       "</table>\n",
       "<p>5 rows × 31 columns</p>\n",
       "</div>"
      ],
      "text/plain": [
       "   DTT_ID      GL account     Business Unit    Journal    VERS    LDG_NAME  \\\n",
       "0  611102  GL account 197  Business Unit 51  Journal 1  VERS 2  LDG_NAME 1   \n",
       "1  611162  GL account 197  Business Unit 51  Journal 1  VERS 2  LDG_NAME 1   \n",
       "2  611197  GL account 197  Business Unit 51  Journal 1  VERS 2  LDG_NAME 1   \n",
       "3  611198  GL account 197  Business Unit 51  Journal 1  VERS 2  LDG_NAME 1   \n",
       "4  611199  GL account 197  Business Unit 51  Journal 1  VERS 2  LDG_NAME 1   \n",
       "\n",
       "         Account No     Period  Sequence No  Post Date  ...          DOC_XREF  \\\n",
       "0  Account No 28386  Period 12       1044.0  3/07/2015  ...  DOC_XREF 2312918   \n",
       "1  Account No 28386  Period 12       1045.0  3/07/2015  ...  DOC_XREF 2312919   \n",
       "2  Account No 28386  Period 12        934.0  2/07/2015  ...  DOC_XREF 2301257   \n",
       "3  Account No 28386  Period 12        935.0  2/07/2015  ...  DOC_XREF 2301257   \n",
       "4  Account No 28386  Period 12        936.0  2/07/2015  ...  DOC_XREF 2301258   \n",
       "\n",
       "   USER_FLD1     BAT_CRUSER    BAT_CRTERM    SOURCE_ID Source_Date  \\\n",
       "0        NaN  BAT_CRUSER 60  BAT_CRTERM 5  SOURCE_ID 4   2/07/2015   \n",
       "1        NaN  BAT_CRUSER 60  BAT_CRTERM 5  SOURCE_ID 7   3/07/2015   \n",
       "2        NaN  BAT_CRUSER 60  BAT_CRTERM 5  SOURCE_ID 4   1/07/2015   \n",
       "3        NaN  BAT_CRUSER 60  BAT_CRTERM 5  SOURCE_ID 4   1/07/2015   \n",
       "4        NaN  BAT_CRUSER 60  BAT_CRTERM 5  SOURCE_ID 7   2/07/2015   \n",
       "\n",
       "   SOURCE_TIMEI     SOURCE_USER     POST_USER  \\\n",
       "0      232352.0  SOURCE_USER 61  POST_USER 60   \n",
       "1       21446.0  SOURCE_USER 61  POST_USER 60   \n",
       "2      231358.0  SOURCE_USER 61  POST_USER 60   \n",
       "3      231358.0  SOURCE_USER 61  POST_USER 60   \n",
       "4       12710.0  SOURCE_USER 61  POST_USER 60   \n",
       "\n",
       "                      DOC_UNIQUE_ID  \n",
       "0  6a39f98d98784be3a6de803b02708e5e  \n",
       "1                               NaN  \n",
       "2  1aa32ff8a72c4394b2e50f44fa8b12f1  \n",
       "3  1aa32ff8a72c4394b2e50f44fa8b12f1  \n",
       "4                               NaN  \n",
       "\n",
       "[5 rows x 31 columns]"
      ]
     },
     "execution_count": 6,
     "metadata": {},
     "output_type": "execute_result"
    }
   ],
   "source": [
    "#read all files\n",
    "all_files = glob.glob(\"JET_CSV_DATA/*.csv\")\n",
    "\n",
    "li = []\n",
    "\n",
    "for filename in all_files:\n",
    "    glDF = pd.read_csv(filename, index_col=None, header=0)\n",
    "    li.append(glDF)\n",
    "\n",
    "glDF = pd.concat(li, axis=0, ignore_index=True)\n",
    "glDF.head(5)\n",
    "\n"
   ]
  },
  {
   "cell_type": "code",
   "execution_count": 7,
   "metadata": {},
   "outputs": [
    {
     "data": {
      "text/plain": [
       "(10627609, 31)"
      ]
     },
     "execution_count": 7,
     "metadata": {},
     "output_type": "execute_result"
    }
   ],
   "source": [
    "glDF.shape\n"
   ]
  },
  {
   "cell_type": "code",
   "execution_count": 8,
   "metadata": {},
   "outputs": [
    {
     "name": "stdout",
     "output_type": "stream",
     "text": [
      "<class 'pandas.core.frame.DataFrame'>\n",
      "RangeIndex: 10627609 entries, 0 to 10627608\n",
      "Data columns (total 31 columns):\n",
      "DTT_ID           object\n",
      "GL account       object\n",
      "Business Unit    object\n",
      "Journal          object\n",
      "VERS             object\n",
      "LDG_NAME         object\n",
      "Account No       object\n",
      "Period           object\n",
      "Sequence No      float64\n",
      "Post Date        object\n",
      "PTIMEI           float64\n",
      "JNL_LNE          float64\n",
      "DOC_TYPE         object\n",
      "Doc Date         object\n",
      "DOC_REF1         object\n",
      "SOURCE           object\n",
      "Amount           float64\n",
      "NARR1            float64\n",
      "BAT_NAME         object\n",
      "BAT CR DATE      object\n",
      "BAT_CRTIMEI      float64\n",
      "DOC_XREF         object\n",
      "USER_FLD1        object\n",
      "BAT_CRUSER       object\n",
      "BAT_CRTERM       object\n",
      "SOURCE_ID        object\n",
      "Source_Date      object\n",
      "SOURCE_TIMEI     float64\n",
      "SOURCE_USER      object\n",
      "POST_USER        object\n",
      "DOC_UNIQUE_ID    object\n",
      "dtypes: float64(7), object(24)\n",
      "memory usage: 2.5+ GB\n"
     ]
    }
   ],
   "source": [
    "glDF.info()"
   ]
  },
  {
   "cell_type": "markdown",
   "metadata": {},
   "source": [
    "# cleaning data"
   ]
  },
  {
   "cell_type": "code",
   "execution_count": 9,
   "metadata": {},
   "outputs": [],
   "source": [
    "#delete columns not required - some are redundant or not required \n",
    "glDF.drop(['DTT_ID', 'BAT CR DATE', 'BAT_CRTIMEI', 'Doc Date', 'Post Date', 'PTIMEI', 'DOC_XREF', 'USER_FLD1', 'USER_FLD1', \\\n",
    "                 'VERS', 'Source_Date', 'SOURCE_TIMEI', 'Sequence No', 'DOC_UNIQUE_ID' ], axis=1, inplace=True)\n",
    "\n"
   ]
  },
  {
   "cell_type": "code",
   "execution_count": 10,
   "metadata": {},
   "outputs": [
    {
     "data": {
      "text/plain": [
       "GL account       True\n",
       "Business Unit    True\n",
       "Journal          True\n",
       "LDG_NAME         True\n",
       "Account No       True\n",
       "Period           True\n",
       "JNL_LNE          True\n",
       "DOC_TYPE         True\n",
       "DOC_REF1         True\n",
       "SOURCE           True\n",
       "Amount           True\n",
       "NARR1            True\n",
       "BAT_NAME         True\n",
       "BAT_CRUSER       True\n",
       "BAT_CRTERM       True\n",
       "SOURCE_ID        True\n",
       "SOURCE_USER      True\n",
       "POST_USER        True\n",
       "dtype: bool"
      ]
     },
     "execution_count": 10,
     "metadata": {},
     "output_type": "execute_result"
    }
   ],
   "source": [
    "glDF.isnull().any()"
   ]
  },
  {
   "cell_type": "code",
   "execution_count": 11,
   "metadata": {},
   "outputs": [],
   "source": [
    "# delete rows and columns which has all null values\n",
    "glDF.dropna(how='all', axis=1, inplace=True)\n",
    "glDF.dropna(how='all', inplace=True)\n",
    "\n",
    "#fill columns with null values\n",
    "glDF.isnull().any()\n",
    "\n",
    "#fill null value with mode\n",
    "glDF.fillna(glDF.mode().iloc[0], inplace=True)"
   ]
  },
  {
   "cell_type": "code",
   "execution_count": 12,
   "metadata": {},
   "outputs": [
    {
     "data": {
      "text/plain": [
       "GL account       False\n",
       "Business Unit    False\n",
       "Journal          False\n",
       "LDG_NAME         False\n",
       "Account No       False\n",
       "Period           False\n",
       "JNL_LNE          False\n",
       "DOC_TYPE         False\n",
       "DOC_REF1         False\n",
       "SOURCE           False\n",
       "Amount           False\n",
       "BAT_NAME         False\n",
       "BAT_CRUSER       False\n",
       "BAT_CRTERM       False\n",
       "SOURCE_ID        False\n",
       "SOURCE_USER      False\n",
       "POST_USER        False\n",
       "dtype: bool"
      ]
     },
     "execution_count": 12,
     "metadata": {},
     "output_type": "execute_result"
    }
   ],
   "source": [
    "glDF.isnull().any()"
   ]
  },
  {
   "cell_type": "markdown",
   "metadata": {},
   "source": [
    "# Understanding Categorical data "
   ]
  },
  {
   "cell_type": "code",
   "execution_count": 63,
   "metadata": {},
   "outputs": [
    {
     "data": {
      "text/plain": [
       "Journal 1    9079473\n",
       "Journal 2    1548116\n",
       "Name: Journal, dtype: int64"
      ]
     },
     "execution_count": 63,
     "metadata": {},
     "output_type": "execute_result"
    }
   ],
   "source": [
    "#Journal\n",
    "glDF['Journal'].value_counts()"
   ]
  },
  {
   "cell_type": "code",
   "execution_count": 17,
   "metadata": {},
   "outputs": [
    {
     "data": {
      "image/png": "[encoded data removed]",
      "text/plain": [
       "<Figure size 432x288 with 1 Axes>"
      ]
     },
     "metadata": {},
     "output_type": "display_data"
    }
   ],
   "source": [
    "labels = glDF['Journal'].astype('category').cat.categories.tolist()\n",
    "counts = glDF['Journal'].value_counts()\n",
    "pieChart(labels, counts)"
   ]
  },
  {
   "cell_type": "code",
   "execution_count": 14,
   "metadata": {},
   "outputs": [
    {
     "data": {
      "text/plain": [
       "Period 4     933197\n",
       "Period 1     931023\n",
       "Period 9     925210\n",
       "Period 12    910630\n",
       "Period 3     909240\n",
       "Period 6     894587\n",
       "Period 11    894362\n",
       "Period 2     881191\n",
       "Period 5     864568\n",
       "Period 10    857502\n",
       "Period 8     848074\n",
       "Period 7     737923\n",
       "Period 13     40082\n",
       "Name: Period, dtype: int64"
      ]
     },
     "execution_count": 14,
     "metadata": {},
     "output_type": "execute_result"
    }
   ],
   "source": [
    "#period\n",
    "glDF['Period'].value_counts()"
   ]
  },
  {
   "cell_type": "code",
   "execution_count": 74,
   "metadata": {},
   "outputs": [
    {
     "data": {
      "text/plain": [
       "[Period 12, 1, 10, Period 11, 3, ..., 2, 5, 6, 7, Period 13]\n",
       "Length: 13\n",
       "Categories (13, object): [Period 12, 1, 10, Period 11, ..., 5, 6, 7, Period 13]"
      ]
     },
     "execution_count": 74,
     "metadata": {},
     "output_type": "execute_result"
    }
   ],
   "source": [
    "glDF['Period'].unique()"
   ]
  },
  {
   "cell_type": "code",
   "execution_count": 15,
   "metadata": {},
   "outputs": [
    {
     "data": {
      "image/png": "[encoded data removed]",
      "text/plain": [
       "<Figure size 3600x360 with 1 Axes>"
      ]
     },
     "metadata": {
      "needs_background": "light"
     },
     "output_type": "display_data"
    }
   ],
   "source": [
    "boxPlot(50,5,'Period')"
   ]
  },
  {
   "cell_type": "code",
   "execution_count": null,
   "metadata": {},
   "outputs": [],
   "source": [
    "#hot encoing for Journal column\n",
    "glDF = pd.get_dummies(glDF, columns=['Journal'])\n",
    "\n",
    "glDF.drop(['Journal'],axis=1, inplace=True)\n"
   ]
  },
  {
   "cell_type": "code",
   "execution_count": 18,
   "metadata": {},
   "outputs": [],
   "source": [
    "# change values to numerical so that columns can be converted to categories\n",
    "\n",
    "cleanup_nums = {\"SOURCE_ID\": {\"SOURCE 2\": 2, \"SOURCE 3\": 3, \"SOURCE 4\": 4, \"SOURCE 5\": 5, \"SOURCE 6\": 6,\n",
    "                                  \"SOURCE 7\":7, \"SOURCE 8\": 8},\n",
    "                \"Period\": {\"Period 1\": 1, \"Period 2\": 2, \"Period 3\": 3, \"Period 4\": 4, \"Period 5\": 5, \"Period 6\": 6,\n",
    "                                  \"Period 7\":7, \"Period 8\": 8, \"Period 9\":9, \"Period 10\":10 },\n",
    "                \"LDG_NAME\": {\"LDG_NAME 1\": 1}\n",
    "               }\n",
    "\n",
    "glDF.replace(cleanup_nums, inplace=True)\n",
    "\n",
    "glDF[\"SOURCE_ID\"] = glDF[\"SOURCE_ID\"].astype('category')\n",
    "glDF[\"Period\"] = glDF[\"Period\"].astype('category')\n",
    "glDF[\"LDG_NAME\"] = glDF[\"LDG_NAME\"].astype('category')\n",
    "glDF[\"LDG_NAME\"] = glDF[\"LDG_NAME\"].astype('category')\n",
    "glDF[\"SOURCE_USER\"] = glDF[\"SOURCE_USER\"].astype('category')\n",
    "glDF[\"POST_USER\"] = glDF[\"POST_USER\"].astype('category')\n"
   ]
  },
  {
   "cell_type": "code",
   "execution_count": 19,
   "metadata": {},
   "outputs": [
    {
     "data": {
      "text/plain": [
       "GL account         object\n",
       "Business Unit      object\n",
       "Journal            object\n",
       "LDG_NAME         category\n",
       "Account No         object\n",
       "Period           category\n",
       "JNL_LNE           float64\n",
       "DOC_TYPE           object\n",
       "DOC_REF1           object\n",
       "SOURCE             object\n",
       "Amount            float64\n",
       "BAT_NAME           object\n",
       "BAT_CRUSER         object\n",
       "BAT_CRTERM         object\n",
       "SOURCE_ID        category\n",
       "SOURCE_USER      category\n",
       "POST_USER        category\n",
       "dtype: object"
      ]
     },
     "execution_count": 19,
     "metadata": {},
     "output_type": "execute_result"
    }
   ],
   "source": [
    "glDF.dtypes"
   ]
  },
  {
   "cell_type": "code",
   "execution_count": 54,
   "metadata": {},
   "outputs": [
    {
     "data": {
      "text/plain": [
       "array(['SOURCE_USER 61', 'SOURCE_USER 32', 'SOURCE_USER 81',\n",
       "       'SOURCE_USER 136', 'SOURCE_USER 86', 'SOURCE_USER 21',\n",
       "       'SOURCE_USER 150', 'SOURCE_USER 83', 'SOURCE_USER 44',\n",
       "       'SOURCE_USER 65', 'SOURCE_USER 30', 'SOURCE_USER 111',\n",
       "       'SOURCE_USER 76', 'SOURCE_USER 119', 'SOURCE_USER 3',\n",
       "       'SOURCE_USER 70', 'SOURCE_USER 145', 'SOURCE_USER 71',\n",
       "       'SOURCE_USER 108', 'SOURCE_USER 31', 'SOURCE_USER 120',\n",
       "       'SOURCE_USER 82', 'SOURCE_USER 67', 'SOURCE_USER 146',\n",
       "       'SOURCE_USER 95', 'SOURCE_USER 101', 'SOURCE_USER 77',\n",
       "       'SOURCE_USER 100', 'SOURCE_USER 6', 'SOURCE_USER 69',\n",
       "       'SOURCE_USER 115', 'SOURCE_USER 5', 'SOURCE_USER 107',\n",
       "       'SOURCE_USER 54', 'SOURCE_USER 72', 'SOURCE_USER 127',\n",
       "       'SOURCE_USER 2', 'SOURCE_USER 129', 'SOURCE_USER 98',\n",
       "       'SOURCE_USER 124', 'SOURCE_USER 113', 'SOURCE_USER 135',\n",
       "       'SOURCE_USER 46', 'SOURCE_USER 75', 'SOURCE_USER 106',\n",
       "       'SOURCE_USER 48', 'SOURCE_USER 78', 'SOURCE_USER 50',\n",
       "       'SOURCE_USER 110', 'SOURCE_USER 55', 'SOURCE_USER 109',\n",
       "       'SOURCE_USER 130', 'SOURCE_USER 138', 'SOURCE_USER 143',\n",
       "       'SOURCE_USER 89', 'SOURCE_USER 14', 'SOURCE_USER 16',\n",
       "       'SOURCE_USER 60', 'SOURCE_USER 99', 'SOURCE_USER 52',\n",
       "       'SOURCE_USER 112', 'SOURCE_USER 59', 'SOURCE_USER 128',\n",
       "       'SOURCE_USER 141', 'SOURCE_USER 9', 'SOURCE_USER 85',\n",
       "       'SOURCE_USER 42', 'SOURCE_USER 74', 'SOURCE_USER 125',\n",
       "       'SOURCE_USER 8', 'SOURCE_USER 35', 'SOURCE_USER 149',\n",
       "       'SOURCE_USER 29', 'SOURCE_USER 134', 'SOURCE_USER 34',\n",
       "       'SOURCE_USER 11', 'SOURCE_USER 51', 'SOURCE_USER 93',\n",
       "       'SOURCE_USER 88', 'SOURCE_USER 121', 'SOURCE_USER 133',\n",
       "       'SOURCE_USER 87', 'SOURCE_USER 140', 'SOURCE_USER 102',\n",
       "       'SOURCE_USER 56', 'SOURCE_USER 62', 'SOURCE_USER 92',\n",
       "       'SOURCE_USER 12', 'SOURCE_USER 33', 'SOURCE_USER 148',\n",
       "       'SOURCE_USER 66', 'SOURCE_USER 117', 'SOURCE_USER 151',\n",
       "       'SOURCE_USER 123', 'SOURCE_USER 79', 'SOURCE_USER 18',\n",
       "       'SOURCE_USER 24', 'SOURCE_USER 147', 'SOURCE_USER 90',\n",
       "       'SOURCE_USER 142', 'SOURCE_USER 131', 'SOURCE_USER 43',\n",
       "       'SOURCE_USER 58', 'SOURCE_USER 40', 'SOURCE_USER 23',\n",
       "       'SOURCE_USER 19', 'SOURCE_USER 4', 'SOURCE_USER 97',\n",
       "       'SOURCE_USER 105', 'SOURCE_USER 20', 'SOURCE_USER 68',\n",
       "       'SOURCE_USER 57', 'SOURCE_USER 45', 'SOURCE_USER 139',\n",
       "       'SOURCE_USER 114', 'SOURCE_USER 15', 'SOURCE_USER 116',\n",
       "       'SOURCE_USER 104', 'SOURCE_USER 144', 'SOURCE_USER 53',\n",
       "       'SOURCE_USER 28', 'SOURCE_USER 118', 'SOURCE_USER 7',\n",
       "       'SOURCE_USER 84', 'SOURCE_USER 10', 'SOURCE_USER 122',\n",
       "       'SOURCE_USER 132', 'SOURCE_USER 27', 'SOURCE_USER 37',\n",
       "       'SOURCE_USER 63', 'SOURCE_USER 47', 'SOURCE_USER 39',\n",
       "       'SOURCE_USER 126', 'SOURCE_USER 91', 'SOURCE_USER 64',\n",
       "       'SOURCE_USER 25', nan], dtype=object)"
      ]
     },
     "execution_count": 54,
     "metadata": {},
     "output_type": "execute_result"
    }
   ],
   "source": [
    "# source user\n",
    "glDF['SOURCE_USER'].value_counts()"
   ]
  },
  {
   "cell_type": "code",
   "execution_count": 32,
   "metadata": {},
   "outputs": [
    {
     "data": {
      "text/plain": [
       "<matplotlib.axes._subplots.AxesSubplot at 0x18414b39dc8>"
      ]
     },
     "execution_count": 32,
     "metadata": {},
     "output_type": "execute_result"
    },
    {
     "data": {
      "image/png": "[encoded data removed]",
      "text/plain": [
       "<Figure size 3600x360 with 1 Axes>"
      ]
     },
     "metadata": {
      "needs_background": "light"
     },
     "output_type": "display_data"
    }
   ],
   "source": [
    "fig_dims = (50, 5)\n",
    "fig, ax = plt.subplots(figsize=fig_dims)\n",
    "sns.countplot(x='SOURCE_USER',data=df)"
   ]
  },
  {
   "cell_type": "code",
   "execution_count": 52,
   "metadata": {},
   "outputs": [
    {
     "data": {
      "text/plain": [
       "array(['POST_USER 60', 'POST_USER 31', 'POST_USER 80', 'POST_USER 135',\n",
       "       'POST_USER 85', 'POST_USER 20', 'POST_USER 149', 'POST_USER 82',\n",
       "       'POST_USER 43', 'POST_USER 64', 'POST_USER 29', 'POST_USER 110',\n",
       "       'POST_USER 75', 'POST_USER 118', 'POST_USER 2', 'POST_USER 69',\n",
       "       'POST_USER 144', 'POST_USER 70', 'POST_USER 107', 'POST_USER 30',\n",
       "       'POST_USER 119', 'POST_USER 81', 'POST_USER 66', 'POST_USER 145',\n",
       "       'POST_USER 94', 'POST_USER 100', 'POST_USER 73', 'POST_USER 99',\n",
       "       'POST_USER 5', 'POST_USER 68', 'POST_USER 114', 'POST_USER 4',\n",
       "       'POST_USER 106', 'POST_USER 53', 'POST_USER 71', 'POST_USER 126',\n",
       "       'POST_USER 1', 'POST_USER 128', 'POST_USER 97', 'POST_USER 123',\n",
       "       'POST_USER 112', 'POST_USER 76', 'POST_USER 134', 'POST_USER 45',\n",
       "       'POST_USER 74', 'POST_USER 105', 'POST_USER 47', 'POST_USER 77',\n",
       "       'POST_USER 49', 'POST_USER 109', 'POST_USER 54', 'POST_USER 108',\n",
       "       'POST_USER 129', 'POST_USER 137', 'POST_USER 142', 'POST_USER 88',\n",
       "       'POST_USER 13', 'POST_USER 15', 'POST_USER 59', 'POST_USER 98',\n",
       "       'POST_USER 51', 'POST_USER 111', 'POST_USER 58', 'POST_USER 127',\n",
       "       'POST_USER 140', 'POST_USER 8', 'POST_USER 84', 'POST_USER 41',\n",
       "       'POST_USER 124', 'POST_USER 7', 'POST_USER 34', 'POST_USER 148',\n",
       "       'POST_USER 28', 'POST_USER 133', 'POST_USER 33', 'POST_USER 10',\n",
       "       'POST_USER 50', 'POST_USER 92', 'POST_USER 87', 'POST_USER 132',\n",
       "       'POST_USER 120', 'POST_USER 86', 'POST_USER 139', 'POST_USER 101',\n",
       "       'POST_USER 55', 'POST_USER 61', 'POST_USER 91', 'POST_USER 11',\n",
       "       'POST_USER 32', 'POST_USER 147', 'POST_USER 65', 'POST_USER 116',\n",
       "       'POST_USER 150', 'POST_USER 122', 'POST_USER 78', 'POST_USER 17',\n",
       "       'POST_USER 23', 'POST_USER 146', 'POST_USER 89', 'POST_USER 141',\n",
       "       'POST_USER 130', 'POST_USER 42', 'POST_USER 57', 'POST_USER 39',\n",
       "       'POST_USER 22', 'POST_USER 18', 'POST_USER 3', 'POST_USER 96',\n",
       "       'POST_USER 104', 'POST_USER 19', 'POST_USER 67', 'POST_USER 56',\n",
       "       'POST_USER 44', 'POST_USER 138', 'POST_USER 113', 'POST_USER 14',\n",
       "       'POST_USER 115', 'POST_USER 103', 'POST_USER 143', 'POST_USER 52',\n",
       "       'POST_USER 27', 'POST_USER 117', 'POST_USER 6', 'POST_USER 83',\n",
       "       'POST_USER 9', 'POST_USER 121', 'POST_USER 131', 'POST_USER 26',\n",
       "       'POST_USER 36', 'POST_USER 62', 'POST_USER 46', 'POST_USER 38',\n",
       "       'POST_USER 125', 'POST_USER 90', 'POST_USER 63', 'POST_USER 24',\n",
       "       nan], dtype=object)"
      ]
     },
     "execution_count": 52,
     "metadata": {},
     "output_type": "execute_result"
    }
   ],
   "source": [
    "#Post user\n",
    "df['POST_USER'].value_counts().count()\n"
   ]
  },
  {
   "cell_type": "code",
   "execution_count": 33,
   "metadata": {},
   "outputs": [
    {
     "data": {
      "text/plain": [
       "<matplotlib.axes._subplots.AxesSubplot at 0x18415c74208>"
      ]
     },
     "execution_count": 33,
     "metadata": {},
     "output_type": "execute_result"
    },
    {
     "data": {
      "image/png": "[encoded data removed]",
      "text/plain": [
       "<Figure size 3600x360 with 1 Axes>"
      ]
     },
     "metadata": {
      "needs_background": "light"
     },
     "output_type": "display_data"
    }
   ],
   "source": [
    "fig_dims = (50, 5)\n",
    "fig, ax = plt.subplots(figsize=fig_dims)\n",
    "sns.countplot(x='POST_USER',data=df)"
   ]
  },
  {
   "cell_type": "code",
   "execution_count": 37,
   "metadata": {},
   "outputs": [
    {
     "data": {
      "text/plain": [
       "POST_USER\n",
       "POST_USER 1       8994\n",
       "POST_USER 10      3131\n",
       "POST_USER 100     4715\n",
       "POST_USER 101    14296\n",
       "POST_USER 102        5\n",
       "                 ...  \n",
       "POST_USER 95       520\n",
       "POST_USER 96       707\n",
       "POST_USER 97      2100\n",
       "POST_USER 98      9837\n",
       "POST_USER 99      8564\n",
       "Name: GL account, Length: 151, dtype: int64"
      ]
     },
     "execution_count": 37,
     "metadata": {},
     "output_type": "execute_result"
    }
   ],
   "source": [
    "#counting records per Post User\n",
    "df_PostUser = glDF.groupby('POST_USER')['GL account'].count()\n",
    "df_PostUser"
   ]
  },
  {
   "cell_type": "code",
   "execution_count": 29,
   "metadata": {},
   "outputs": [],
   "source": [
    "column_names = [\"POST_USER\", \"COUNT\"]\n",
    "\n",
    "df= pd.DataFrame(columns = column_names)\n",
    "\n",
    "df = df_PostUser.to_frame()"
   ]
  },
  {
   "cell_type": "code",
   "execution_count": 65,
   "metadata": {},
   "outputs": [],
   "source": [
    "df.where(df[0:] < 10, inplace=True)\n",
    "df.dropna(how=\"any\", inplace=True)"
   ]
  },
  {
   "cell_type": "code",
   "execution_count": 64,
   "metadata": {},
   "outputs": [
    {
     "data": {
      "text/html": [
       "<div>\n",
       "<style scoped>\n",
       "    .dataframe tbody tr th:only-of-type {\n",
       "        vertical-align: middle;\n",
       "    }\n",
       "\n",
       "    .dataframe tbody tr th {\n",
       "        vertical-align: top;\n",
       "    }\n",
       "\n",
       "    .dataframe thead th {\n",
       "        text-align: right;\n",
       "    }\n",
       "</style>\n",
       "<table border=\"1\" class=\"dataframe\">\n",
       "  <thead>\n",
       "    <tr style=\"text-align: right;\">\n",
       "      <th></th>\n",
       "      <th>GL account</th>\n",
       "    </tr>\n",
       "    <tr>\n",
       "      <th>POST_USER</th>\n",
       "      <th></th>\n",
       "    </tr>\n",
       "  </thead>\n",
       "  <tbody>\n",
       "    <tr>\n",
       "      <td>POST_USER 102</td>\n",
       "      <td>5.0</td>\n",
       "    </tr>\n",
       "    <tr>\n",
       "      <td>POST_USER 12</td>\n",
       "      <td>8.0</td>\n",
       "    </tr>\n",
       "    <tr>\n",
       "      <td>POST_USER 16</td>\n",
       "      <td>5.0</td>\n",
       "    </tr>\n",
       "    <tr>\n",
       "      <td>POST_USER 37</td>\n",
       "      <td>4.0</td>\n",
       "    </tr>\n",
       "    <tr>\n",
       "      <td>POST_USER 40</td>\n",
       "      <td>5.0</td>\n",
       "    </tr>\n",
       "  </tbody>\n",
       "</table>\n",
       "</div>"
      ],
      "text/plain": [
       "               GL account\n",
       "POST_USER                \n",
       "POST_USER 102         5.0\n",
       "POST_USER 12          8.0\n",
       "POST_USER 16          5.0\n",
       "POST_USER 37          4.0\n",
       "POST_USER 40          5.0"
      ]
     },
     "execution_count": 64,
     "metadata": {},
     "output_type": "execute_result"
    }
   ],
   "source": [
    "#finding POST users which has posted less than 10 records \n",
    "df"
   ]
  },
  {
   "cell_type": "code",
   "execution_count": 10,
   "metadata": {},
   "outputs": [
    {
     "data": {
      "text/plain": [
       "GL account 197    164958\n",
       "GL account 779    141283\n",
       "GL account 629     65392\n",
       "GL account 539     47222\n",
       "GL account 205     46823\n",
       "                   ...  \n",
       "GL account 480         1\n",
       "GL account 713         1\n",
       "GL account 815         1\n",
       "GL account 414         1\n",
       "GL account 167         1\n",
       "Name: GL account, Length: 612, dtype: int64"
      ]
     },
     "execution_count": 10,
     "metadata": {},
     "output_type": "execute_result"
    }
   ],
   "source": [
    "#checking GL account\n",
    "glDF['GL account'].value_counts()"
   ]
  },
  {
   "cell_type": "code",
   "execution_count": 56,
   "metadata": {},
   "outputs": [
    {
     "data": {
      "text/plain": [
       "BAT_NAME 218879    10863\n",
       "BAT_NAME 386690     6468\n",
       "BAT_NAME 159088     6266\n",
       "BAT_NAME 409828     5798\n",
       "BAT_NAME 494310     5706\n",
       "                   ...  \n",
       "BAT_NAME 743336        2\n",
       "BAT_NAME 696287        2\n",
       "BAT_NAME 710816        2\n",
       "BAT_NAME 93540         1\n",
       "BAT_NAME 82034         1\n",
       "Name: BAT_NAME, Length: 81664, dtype: int64"
      ]
     },
     "execution_count": 56,
     "metadata": {},
     "output_type": "execute_result"
    }
   ],
   "source": [
    "#checking net amount for each journal entry\n",
    "glDF['BAT_NAME'].value_counts()"
   ]
  },
  {
   "cell_type": "code",
   "execution_count": 73,
   "metadata": {},
   "outputs": [
    {
     "data": {
      "text/plain": [
       "count    1.062759e+07\n",
       "mean     8.986036e-03\n",
       "std      7.245446e+03\n",
       "min     -5.521651e+06\n",
       "25%     -6.240780e-01\n",
       "50%      4.711447e-02\n",
       "75%      8.650681e-01\n",
       "max      5.521651e+06\n",
       "Name: Amount, dtype: float64"
      ]
     },
     "execution_count": 73,
     "metadata": {},
     "output_type": "execute_result"
    }
   ],
   "source": [
    "glDF[\"Amount\"].describe()"
   ]
  },
  {
   "cell_type": "code",
   "execution_count": 72,
   "metadata": {},
   "outputs": [
    {
     "data": {
      "text/plain": [
       "<matplotlib.axes._subplots.AxesSubplot at 0x189bc517ec8>"
      ]
     },
     "execution_count": 72,
     "metadata": {},
     "output_type": "execute_result"
    },
    {
     "data": {
      "image/png": "[encoded data removed]",
      "text/plain": [
       "<Figure size 432x288 with 1 Axes>"
      ]
     },
     "metadata": {
      "needs_background": "light"
     },
     "output_type": "display_data"
    }
   ],
   "source": [
    "# check total net amount for each Batch name \n",
    "glDF.groupby(\"BAT_NAME\")[\"Amount\"].sum().plot.box()"
   ]
  },
  {
   "cell_type": "code",
   "execution_count": null,
   "metadata": {},
   "outputs": [],
   "source": []
  }
 ],
 "metadata": {
  "kernelspec": {
   "display_name": "Python 3",
   "language": "python",
   "name": "python3"
  },
  "language_info": {
   "codemirror_mode": {
    "name": "ipython",
    "version": 3
   },
   "file_extension": ".py",
   "mimetype": "text/x-python",
   "name": "python",
   "nbconvert_exporter": "python",
   "pygments_lexer": "ipython3",
   "version": "3.7.4"
  }
 },
 "nbformat": 4,
 "nbformat_minor": 2
}
